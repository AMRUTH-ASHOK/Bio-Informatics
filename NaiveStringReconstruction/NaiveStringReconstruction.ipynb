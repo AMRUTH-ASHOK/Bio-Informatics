{
 "cells": [
  {
   "cell_type": "code",
   "execution_count": 3,
   "id": "38478403",
   "metadata": {},
   "outputs": [
    {
     "name": "stdout",
     "output_type": "stream",
     "text": [
      "    Kmers      = ['GAG', 'AGG', 'GGA', 'GAG', 'AGG', 'GGA']\n",
      "Sorted Kmers   = ['AGG', 'AGG', 'GAG', 'GAG', 'GGA', 'GGA']\n",
      "String matching= ['GAG', 'AGG', 'GGA', 'GAG', 'AGG', 'GGA']\n",
      " \n",
      "Reconstructed  = GAGGAGGA\n"
     ]
    }
   ],
   "source": [
    "# Note: Remove the comment in arrange function to select GAG as the first kmer\n",
    "import random\n",
    "def kmers(read, k):\n",
    "    KList=[]\n",
    "    num_kmers = len(read) - k + 1\n",
    "    for i in range(num_kmers):\n",
    "        kmer = read[i:i+k]\n",
    "        if i==0:\n",
    "            KList.append(kmer)\n",
    "        else:\n",
    "            KList.append(kmer)\n",
    "    return KList\n",
    "\n",
    "# Input The String to be reconstructed\n",
    "# Note: The code might throw out errors for particular inputted sequences, this is a con of Naive Appoach;\n",
    "# this error is addressed in hamiltonian, debruijn, and paired debruijn reconstruction methods\n",
    "a=kmers(\"GAGGAGGA\",3)\n",
    "print(f\"    Kmers      = {a}\")\n",
    "\n",
    "def sortkmer(kmerlist):\n",
    "    for i in range(len(kmerlist) - 1):\n",
    "        for j in range(i + 1, len(kmerlist)):\n",
    "            if kmerlist[i] > kmerlist[j]:\n",
    "                temp = kmerlist[i]\n",
    "                kmerlist[i] = kmerlist[j]\n",
    "                kmerlist[j] = temp\n",
    "    return kmerlist\n",
    "\n",
    "sortkmer(a)\n",
    "print(f\"Sorted Kmers   = {a}\")\n",
    "\n",
    "def MyFind(pat,txtList):\n",
    "    for i in txtList:\n",
    "        if pat[len(pat)-2:len(pat)]==i[0:2]:\n",
    "            ordered.append(i)\n",
    "            txtList.remove(i)\n",
    "            break\n",
    "ordered=[]\n",
    "\n",
    "def arrange(MyList):\n",
    "    num=random.randint(0, len(MyList)-1)\n",
    "    firstLink = MyList[num]\n",
    "    firstLink = 'GAG'\n",
    "    ordered.append(firstLink)\n",
    "    MyList.remove(firstLink)  \n",
    "    for i in range(len(MyList)):\n",
    "        MyFind(ordered[len(ordered)-1],MyList)\n",
    "\n",
    "def reconstruct(List,newString):\n",
    "    j=0\n",
    "    for i in range(len(ordered)):\n",
    "        if len(ordered)-1==i:\n",
    "            new=ordered[j]\n",
    "            newString=newString+new\n",
    "            j+=1\n",
    "        else:\n",
    "            new=ordered[j]\n",
    "            newString=newString+new[0:1]\n",
    "            j+=1\n",
    "    return newString\n",
    "               \n",
    "arrange(a)\n",
    "\n",
    "print(f\"String matching= {ordered}\")\n",
    "word=reconstruct(ordered,\"\")\n",
    "print(\" \")\n",
    "print(f\"Reconstructed  = {word}\")"
   ]
  },
  {
   "cell_type": "code",
   "execution_count": null,
   "id": "2b317c17",
   "metadata": {},
   "outputs": [],
   "source": []
  }
 ],
 "metadata": {
  "kernelspec": {
   "display_name": "Python 3 (ipykernel)",
   "language": "python",
   "name": "python3"
  },
  "language_info": {
   "codemirror_mode": {
    "name": "ipython",
    "version": 3
   },
   "file_extension": ".py",
   "mimetype": "text/x-python",
   "name": "python",
   "nbconvert_exporter": "python",
   "pygments_lexer": "ipython3",
   "version": "3.8.2"
  }
 },
 "nbformat": 4,
 "nbformat_minor": 5
}
